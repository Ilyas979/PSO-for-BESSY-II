{
 "cells": [
  {
   "cell_type": "code",
   "execution_count": 1,
   "metadata": {},
   "outputs": [],
   "source": [
    "import numpy as np\n",
    "from pyswarm.fgiaopt import *\n",
    "from matplotlib import pyplot as plt\n",
    "def testFunction(X):\n",
    "    #:::: ZDT1 ::::#\n",
    "    n = X.shape[0]\n",
    "    G  = 1 + (9*(np.sum(X) - X[0])/(n-1)) # or G  = 1 + 9*(np.sum(X[2:n]))/(n-1)\n",
    "    F1 = X[0]\n",
    "    F2 = G*(1 - np.sqrt(np.divide(X[0],G)))\n",
    "    F = np.array([F1, F2])\n",
    "    return F\n",
    "dim = 2\n",
    "lb = np.array([0.0]*dim)\n",
    "ub = np.array([1.0]*dim)"
   ]
  },
  {
   "cell_type": "code",
   "execution_count": 20,
   "metadata": {
    "scrolled": true
   },
   "outputs": [
    {
     "data": {
      "image/png": "[encoded data removed]",
      "text/plain": [
       "<Figure size 432x288 with 1 Axes>"
      ]
     },
     "metadata": {},
     "output_type": "display_data"
    }
   ],
   "source": [
    "archiveX,archiveF = mopsocd(testFunction, lb, ub, Nobj = 2, nRep = 100, swarmsize = 12, debug = False, maxit = 10)\n",
    "plt.scatter(archiveF[:,0], archiveF[:,1])\n",
    "plt.show()"
   ]
  },
  {
   "cell_type": "code",
   "execution_count": 3,
   "metadata": {},
   "outputs": [],
   "source": [
    "import pygmo as pg\n",
    "ndf, dl, dc, ndr = pg.fast_non_dominated_sorting(points = archiveF)"
   ]
  },
  {
   "cell_type": "code",
   "execution_count": 4,
   "metadata": {},
   "outputs": [
    {
     "data": {
      "text/plain": [
       "array([1, 2])"
      ]
     },
     "execution_count": 4,
     "metadata": {},
     "output_type": "execute_result"
    }
   ],
   "source": [
    "np.array([[True, False], [True, True]]).sum(1)"
   ]
  }
 ],
 "metadata": {
  "kernelspec": {
   "display_name": "Python 2",
   "language": "python",
   "name": "python2"
  },
  "language_info": {
   "codemirror_mode": {
    "name": "ipython",
    "version": 2
   },
   "file_extension": ".py",
   "mimetype": "text/x-python",
   "name": "python",
   "nbconvert_exporter": "python",
   "pygments_lexer": "ipython2",
   "version": "2.7.15"
  }
 },
 "nbformat": 4,
 "nbformat_minor": 2
}
